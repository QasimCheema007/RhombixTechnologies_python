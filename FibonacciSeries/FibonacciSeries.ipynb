{
 "cells": [
  {
   "cell_type": "code",
   "execution_count": 1,
   "id": "834cf5a3-817a-4ff5-864f-cbea5237a28b",
   "metadata": {},
   "outputs": [
    {
     "name": "stdout",
     "output_type": "stream",
     "text": [
      "Requirement already satisfied: matplotlib in c:\\users\\qchee\\anaconda3\\lib\\site-packages (3.8.0)\n",
      "Requirement already satisfied: contourpy>=1.0.1 in c:\\users\\qchee\\anaconda3\\lib\\site-packages (from matplotlib) (1.2.0)\n",
      "Requirement already satisfied: cycler>=0.10 in c:\\users\\qchee\\anaconda3\\lib\\site-packages (from matplotlib) (0.11.0)\n",
      "Requirement already satisfied: fonttools>=4.22.0 in c:\\users\\qchee\\anaconda3\\lib\\site-packages (from matplotlib) (4.25.0)\n",
      "Requirement already satisfied: kiwisolver>=1.0.1 in c:\\users\\qchee\\anaconda3\\lib\\site-packages (from matplotlib) (1.4.4)\n",
      "Requirement already satisfied: numpy<2,>=1.21 in c:\\users\\qchee\\anaconda3\\lib\\site-packages (from matplotlib) (1.26.4)\n",
      "Requirement already satisfied: packaging>=20.0 in c:\\users\\qchee\\anaconda3\\lib\\site-packages (from matplotlib) (23.1)\n",
      "Requirement already satisfied: pillow>=6.2.0 in c:\\users\\qchee\\anaconda3\\lib\\site-packages (from matplotlib) (10.2.0)\n",
      "Requirement already satisfied: pyparsing>=2.3.1 in c:\\users\\qchee\\anaconda3\\lib\\site-packages (from matplotlib) (3.0.9)\n",
      "Requirement already satisfied: python-dateutil>=2.7 in c:\\users\\qchee\\anaconda3\\lib\\site-packages (from matplotlib) (2.8.2)\n",
      "Requirement already satisfied: six>=1.5 in c:\\users\\qchee\\anaconda3\\lib\\site-packages (from python-dateutil>=2.7->matplotlib) (1.16.0)\n",
      "Note: you may need to restart the kernel to use updated packages.\n"
     ]
    }
   ],
   "source": [
    "pip install matplotlib\n"
   ]
  },
  {
   "cell_type": "code",
   "execution_count": 5,
   "id": "3d5b8a59-856c-4366-b73c-65a410c1f85e",
   "metadata": {},
   "outputs": [
    {
     "name": "stdout",
     "output_type": "stream",
     "text": [
      "Fibonacci Series Generator\n"
     ]
    },
    {
     "name": "stdin",
     "output_type": "stream",
     "text": [
      "Enter the number of Fibonacci numbers to generate:  5\n"
     ]
    },
    {
     "name": "stdout",
     "output_type": "stream",
     "text": [
      "\n",
      "1. Iterative\n",
      "2. Recursive\n",
      "3. Memoization\n"
     ]
    },
    {
     "name": "stdin",
     "output_type": "stream",
     "text": [
      "Choose a method (1/2/3):  3\n"
     ]
    },
    {
     "name": "stdout",
     "output_type": "stream",
     "text": [
      "Fibonacci series (Memoization): [0, 1, 1, 2, 3]\n"
     ]
    },
    {
     "data": {
      "image/png": "[encoded data removed]",
      "text/plain": [
       "<Figure size 640x480 with 1 Axes>"
      ]
     },
     "metadata": {},
     "output_type": "display_data"
    }
   ],
   "source": [
    "import matplotlib.pyplot as plt\n",
    "\n",
    "def fibonacci_iterative(n):\n",
    "    \"\"\"Generate Fibonacci series up to the nth number using iteration.\"\"\"\n",
    "    fib_series = []\n",
    "    a, b = 0, 1\n",
    "    for _ in range(n):\n",
    "        fib_series.append(a)\n",
    "        a, b = b, a + b\n",
    "    return fib_series\n",
    "\n",
    "def fibonacci_recursive(n):\n",
    "    \"\"\"Generate Fibonacci series up to the nth number using recursion.\"\"\"\n",
    "    if n <= 0:\n",
    "        return []\n",
    "    elif n == 1:\n",
    "        return [0]\n",
    "    elif n == 2:\n",
    "        return [0, 1]\n",
    "    else:\n",
    "        fib_series = fibonacci_recursive(n - 1)\n",
    "        fib_series.append(fib_series[-1] + fib_series[-2])\n",
    "        return fib_series\n",
    "\n",
    "def fibonacci_memoization(n, memo={}):\n",
    "    \"\"\"Generate Fibonacci series up to the nth number using memoization.\"\"\"\n",
    "    if n in memo:\n",
    "        return memo[n]\n",
    "    if n <= 0:\n",
    "        return 0\n",
    "    if n == 1:\n",
    "        return 1\n",
    "    memo[n] = fibonacci_memoization(n - 1, memo) + fibonacci_memoization(n - 2, memo)\n",
    "    return memo[n]\n",
    "\n",
    "def plot_fibonacci(series):\n",
    "    \"\"\"Visualize the Fibonacci series using a plot.\"\"\"\n",
    "    plt.plot(series, marker='o')\n",
    "    plt.title('Fibonacci Series')\n",
    "    plt.xlabel('Index')\n",
    "    plt.ylabel('Fibonacci Number')\n",
    "    plt.grid()\n",
    "    plt.show()\n",
    "\n",
    "def main():\n",
    "    print(\"Fibonacci Series Generator\")\n",
    "    n = int(input(\"Enter the number of Fibonacci numbers to generate: \"))\n",
    "    \n",
    "    print(\"\\n1. Iterative\")\n",
    "    print(\"2. Recursive\")\n",
    "    print(\"3. Memoization\")\n",
    "    \n",
    "    choice = input(\"Choose a method (1/2/3): \")\n",
    "    \n",
    "    if choice == '1':\n",
    "        series = fibonacci_iterative(n)\n",
    "        print(f\"Fibonacci series (Iterative): {series}\")\n",
    "    elif choice == '2':\n",
    "        series = fibonacci_recursive(n)\n",
    "        print(f\"Fibonacci series (Recursive): {series}\")\n",
    "    elif choice == '3':\n",
    "        series = [fibonacci_memoization(i) for i in range(n)]\n",
    "        print(f\"Fibonacci series (Memoization): {series}\")\n",
    "    else:\n",
    "        print(\"Invalid choice.\")\n",
    "        return\n",
    "\n",
    "    plot_fibonacci(series)\n",
    "\n",
    "if __name__ == \"__main__\":\n",
    "    main()\n"
   ]
  }
 ],
 "metadata": {
  "kernelspec": {
   "display_name": "Python 3 (ipykernel)",
   "language": "python",
   "name": "python3"
  },
  "language_info": {
   "codemirror_mode": {
    "name": "ipython",
    "version": 3
   },
   "file_extension": ".py",
   "mimetype": "text/x-python",
   "name": "python",
   "nbconvert_exporter": "python",
   "pygments_lexer": "ipython3",
   "version": "3.11.7"
  }
 },
 "nbformat": 4,
 "nbformat_minor": 5
}
